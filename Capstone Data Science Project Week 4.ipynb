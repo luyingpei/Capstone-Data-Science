{
 "cells": [
  {
   "cell_type": "markdown",
   "metadata": {
    "collapsed": true
   },
   "source": [
    "## Applied Data Science Capstone Project Week 4\n",
    "### Introduction/Business Problem:\n",
    "A small coffee shop located in Toronto has been doing very well in the past year and the owner of the coffee shop is looking to expand their business in other areas of the city. They currently have one location open on Central Bay Street, Downtown Toronto that is very popular and they are looking into opening 2-3 new locations in other neighbourhoods of Downtown Toronto.  Due to the complex and varying layouts of different neighbourhoods in Downtown Toronto, the owner of the coffee shop plans to hire a group of data scientists to determine the best locations for expanding his business with a list of criteria that may play key roles in terms of increasing the success of this business expansion.  This list includes: 1) selecting a popular neighbourhood with a high number of venues (i.e. leading to a higher rate of customers visiting), 2) selecting a neighbourhood with lower number of competition (i.e. currently existing coffee shops), 3) considering the success of the current location, the owner wants to find similar neighbourhoods to increase the chance of success.\n",
    "\n",
    "\n",
    "### Data:\n",
    "#### Trusted Data Sources for the Project:\n",
    "The following trusted data sources will be used to conduct Data exploration and other forms of data analysis as part of the methodology for the project.\n",
    "1.\tToronto Neighborhood Data - 'https://en.wikipedia.org/wiki/List_of_postal_codes_of_Canada:_M'\n",
    "2.\tData table containing the latitude and longitude coordinates of postal codes in csv file that was provided in Week 3 assignment (or Geocoder package but this is less reliable)\n",
    "3.\tFoursquare Location Data (Venues [Restaurants, Community Centers]) will be used to cluser, segment, target, and position to craft recommendations for determining locations for business expansion\n",
    "\n",
    "In order to approach this problem, as data scientists, we first need to gather the data from reliable sources then clean up and sort the data to customize to contain the relevant information we need to solve the problem.  Then, we analyze the data to generate organized maps, tables and charts for us to visualize and draw conclusions based on our results. Finally we will present our findings and our recommendations on the solution of the problem to our audience - the business owner.  The details are summarized below. \n",
    "1. Start a notebook to build the code to scrape the Wikipedia page of postal codes of Canada specifically for Toronto (https://en.wikipedia.org/wiki/List_of_postal_codes_of_Canada:_M,) in order to obtain the data in the table of postal codes (containing the list of boroughs and neighbourhoods) and to transform it into a pandas dataframe\n",
    "2. Clean up the dataframe by removing redundancies and irrelavant cells and reorganize data as needed. \n",
    "3. Retrieve the latitude and longitude coordinates of postal codes in Toronto using the Geocoder package or the csv file that was provided in Week 3 assignment and create a new dataframe containing table with latitude and longitude coordinates of postal codes and merge this dataframe with the first dataframe containing postal codes matching the neighbourhoods in Toronto so we have a combined dataframe with the latitude and longitude coordinates of all the neighbourhoods in Toronto.\n",
    "4. Select Downtown Toronto with its neighbourhood names and latitude and longitude coordinates. Create map of Downtown Toronto to visualize the neighbourhoods using folium.Map \n",
    "5. Use Foursquare API to retrieve lists of venues in each of the neighbourhoods in downtown Toronto. Count the number of venues in each neighbourhoods and select the neighbourhoods with the highest number of venues.\n",
    "6. From the list of neighbourhoods with the highest number of venues, use one-hot-encoding to generate a chart including the counts of each different venue type in each neighbourhood and summarize the finding in a frequency table.  Exam the frequency of coffee shops in each neighbourhood and select the neighbourhoods with lower frequencies of coffee shops.\n",
    "7. Explore and exam the selected neighbourhoods in Downtown Toronto and use Machine Learning methods and/or Statistical analysis methods to evaluate the similarity between Central Bay Street (location of current business) vs. the selected neighbourhoods as potential locations to open up a new coffee shop.  Use maps or graphs to help with visualization.\n",
    "8. Draw conclusions based on data analysis and make recommendations for business based on results.\n",
    "\n"
   ]
  },
  {
   "cell_type": "code",
   "execution_count": null,
   "metadata": {},
   "outputs": [],
   "source": []
  }
 ],
 "metadata": {
  "kernelspec": {
   "display_name": "Python 3.5",
   "language": "python",
   "name": "python3"
  },
  "language_info": {
   "codemirror_mode": {
    "name": "ipython",
    "version": 3
   },
   "file_extension": ".py",
   "mimetype": "text/x-python",
   "name": "python",
   "nbconvert_exporter": "python",
   "pygments_lexer": "ipython3",
   "version": "3.5.5"
  }
 },
 "nbformat": 4,
 "nbformat_minor": 1
}
